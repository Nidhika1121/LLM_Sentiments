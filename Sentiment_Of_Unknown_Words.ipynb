{
  "nbformat": 4,
  "nbformat_minor": 0,
  "metadata": {
    "colab": {
      "provenance": [],
      "collapsed_sections": [],
      "machine_shape": "hm"
    },
    "kernelspec": {
      "name": "python3",
      "display_name": "Python 3"
    },
    "language_info": {
      "name": "python"
    },
    "accelerator": "TPU",
    "gpuClass": "standard"
  },
  "cells": [
    {
      "cell_type": "code",
      "source": [
        "# Mount your google drive in google colab\n",
        "from google.colab import drive\n",
        "drive.mount('/content/drive')"
      ],
      "metadata": {
        "colab": {
          "base_uri": "https://localhost:8080/"
        },
        "id": "JZkxxA5XMuom",
        "outputId": "146f98aa-4826-4ff1-a1ed-eaae3f718b83"
      },
      "execution_count": 1,
      "outputs": [
        {
          "output_type": "stream",
          "name": "stdout",
          "text": [
            "Mounted at /content/drive\n"
          ]
        }
      ]
    },
    {
      "cell_type": "code",
      "source": [
        "import gensim\n",
        "\n",
        "# Load Google's pre-trained Word2Vec model.\n",
        "model =  gensim.models.KeyedVectors.load_word2vec_format('/content/drive/MyDrive/GoogleNews-vectors-negative300.bin.gz', binary=True)  "
      ],
      "metadata": {
        "id": "94N0d0-NGrdK"
      },
      "execution_count": 2,
      "outputs": []
    },
    {
      "cell_type": "code",
      "source": [
        "vocabulary = model.wv.vocab\n",
        "len(vocabulary)"
      ],
      "metadata": {
        "colab": {
          "base_uri": "https://localhost:8080/"
        },
        "id": "Vvz7lu4mYW3n",
        "outputId": "8bde5b6e-bacb-466e-cbf5-01a6c6875903"
      },
      "execution_count": 4,
      "outputs": [
        {
          "output_type": "stream",
          "name": "stderr",
          "text": [
            "/usr/local/lib/python3.7/dist-packages/ipykernel_launcher.py:1: DeprecationWarning: Call to deprecated `wv` (Attribute will be removed in 4.0.0, use self instead).\n",
            "  \"\"\"Entry point for launching an IPython kernel.\n"
          ]
        },
        {
          "output_type": "execute_result",
          "data": {
            "text/plain": [
              "3000000"
            ]
          },
          "metadata": {},
          "execution_count": 4
        }
      ]
    },
    {
      "cell_type": "code",
      "source": [
        "model"
      ],
      "metadata": {
        "colab": {
          "base_uri": "https://localhost:8080/"
        },
        "id": "i_ZxlQqgPx4i",
        "outputId": "ebef7ca9-d474-49e9-d612-8cab0f00b0dd"
      },
      "execution_count": 5,
      "outputs": [
        {
          "output_type": "execute_result",
          "data": {
            "text/plain": [
              "<gensim.models.keyedvectors.Word2VecKeyedVectors at 0x7f1238279f10>"
            ]
          },
          "metadata": {},
          "execution_count": 5
        }
      ]
    },
    {
      "cell_type": "code",
      "source": [
        "similar_words = model.most_similar(\"sad\", topn=20)\n",
        "for w in similar_words:\n",
        "  print(w)\n",
        " "
      ],
      "metadata": {
        "colab": {
          "base_uri": "https://localhost:8080/"
        },
        "id": "_FxP6SilVfDw",
        "outputId": "23510f62-efa3-4c7b-802f-c13009f400d7"
      },
      "execution_count": 7,
      "outputs": [
        {
          "output_type": "stream",
          "name": "stdout",
          "text": [
            "('saddening', 0.7273085713386536)\n",
            "('Sad', 0.6610826253890991)\n",
            "('saddened', 0.6604382991790771)\n",
            "('heartbreaking', 0.6573507785797119)\n",
            "('disheartening', 0.6507317423820496)\n",
            "('Meny_Friedman', 0.6487058401107788)\n",
            "('parishioner_Pat_Patello', 0.6475859880447388)\n",
            "('saddens_me', 0.6407118439674377)\n",
            "('distressing', 0.6399092674255371)\n",
            "('reminders_bobbing', 0.6357713937759399)\n",
            "('Turkoman_Shiites', 0.6355769634246826)\n",
            "('saddest', 0.6345508694648743)\n",
            "('unfortunate', 0.6272086501121521)\n",
            "('sorry', 0.6194046139717102)\n",
            "('bittersweet', 0.6175209283828735)\n",
            "('tragic', 0.6112790107727051)\n",
            "('regretful', 0.6034718751907349)\n",
            "('sadder', 0.6003201007843018)\n",
            "('heartbroken', 0.5942457914352417)\n",
            "('shameful', 0.593755304813385)\n"
          ]
        }
      ]
    },
    {
      "cell_type": "code",
      "source": [
        "similar_words = model.most_similar(\"happy\", topn=20)\n",
        "for w in similar_words:\n",
        "  print(w)"
      ],
      "metadata": {
        "colab": {
          "base_uri": "https://localhost:8080/"
        },
        "id": "GpFdwyBsWxig",
        "outputId": "1134f1bb-7c29-4987-9db1-633b7c6d6f8e"
      },
      "execution_count": 8,
      "outputs": [
        {
          "output_type": "stream",
          "name": "stdout",
          "text": [
            "('glad', 0.7408890128135681)\n",
            "('pleased', 0.6632171273231506)\n",
            "('ecstatic', 0.6626912355422974)\n",
            "('overjoyed', 0.6599286794662476)\n",
            "('thrilled', 0.6514049768447876)\n",
            "('satisfied', 0.6437950134277344)\n",
            "('proud', 0.636042058467865)\n",
            "('delighted', 0.627237856388092)\n",
            "('disappointed', 0.6269949674606323)\n",
            "('excited', 0.6247666478157043)\n",
            "('happier', 0.6244627237319946)\n",
            "('Said_Hirschbeck', 0.6234509348869324)\n",
            "('elated', 0.619601845741272)\n",
            "('thankful', 0.6178935766220093)\n",
            "('unhappy', 0.6128038167953491)\n",
            "('enthused', 0.6084051132202148)\n",
            "('chuffed', 0.5918745398521423)\n",
            "('grateful', 0.5918136239051819)\n",
            "('confident', 0.589353084564209)\n",
            "('hapy', 0.5783905982971191)\n"
          ]
        }
      ]
    },
    {
      "cell_type": "code",
      "source": [
        "similar_words = model.most_similar(\"good\", topn=20)\n",
        "for w in similar_words:\n",
        "  print(w)"
      ],
      "metadata": {
        "colab": {
          "base_uri": "https://localhost:8080/"
        },
        "id": "HPdE6XLZWzgf",
        "outputId": "2e6ff252-4e5f-4940-c698-d913fcbb2131"
      },
      "execution_count": 9,
      "outputs": [
        {
          "output_type": "stream",
          "name": "stdout",
          "text": [
            "('great', 0.7291510105133057)\n",
            "('bad', 0.7190051078796387)\n",
            "('terrific', 0.6889115571975708)\n",
            "('decent', 0.6837348937988281)\n",
            "('nice', 0.6836092472076416)\n",
            "('excellent', 0.644292950630188)\n",
            "('fantastic', 0.6407778263092041)\n",
            "('better', 0.6120728254318237)\n",
            "('solid', 0.5806034803390503)\n",
            "('lousy', 0.5764201879501343)\n",
            "('wonderful', 0.5726118087768555)\n",
            "('terrible', 0.5602042078971863)\n",
            "('Good', 0.5586156249046326)\n",
            "('tough', 0.558531641960144)\n",
            "('best', 0.546719491481781)\n",
            "('alright', 0.541784942150116)\n",
            "('perfect', 0.5401014089584351)\n",
            "('strong', 0.539231538772583)\n",
            "('pretty_darn', 0.5339667201042175)\n",
            "('really', 0.5286920666694641)\n"
          ]
        }
      ]
    },
    {
      "cell_type": "code",
      "source": [
        "similar_words = model.most_similar(\"bad\", topn=20)\n",
        "for w in similar_words:\n",
        "  print(w)"
      ],
      "metadata": {
        "colab": {
          "base_uri": "https://localhost:8080/"
        },
        "id": "RyhDhxvgW1UP",
        "outputId": "2c7e598a-90a7-414c-fa1b-88a51a9c9f31"
      },
      "execution_count": 10,
      "outputs": [
        {
          "output_type": "stream",
          "name": "stdout",
          "text": [
            "('good', 0.7190051078796387)\n",
            "('terrible', 0.6828612089157104)\n",
            "('horrible', 0.6702598333358765)\n",
            "('Bad', 0.6698919534683228)\n",
            "('lousy', 0.6647640466690063)\n",
            "('crummy', 0.5677819848060608)\n",
            "('horrid', 0.5651682615280151)\n",
            "('awful', 0.5527253150939941)\n",
            "('dreadful', 0.5526429414749146)\n",
            "('horrendous', 0.5445997714996338)\n",
            "('nasty', 0.5428845882415771)\n",
            "('crappy', 0.5408176183700562)\n",
            "('stupid', 0.5405174493789673)\n",
            "('poor', 0.535223126411438)\n",
            "('rotten', 0.5332878828048706)\n",
            "('ugly', 0.526317298412323)\n",
            "('iffy', 0.5214958786964417)\n",
            "('shitty', 0.515649139881134)\n",
            "('worse', 0.5141046047210693)\n",
            "('atrocious', 0.5096498727798462)\n"
          ]
        }
      ]
    },
    {
      "cell_type": "code",
      "source": [
        "similar_words = model.most_similar(\"neutral\", topn=20)\n",
        "for w in similar_words:\n",
        "  print(w)"
      ],
      "metadata": {
        "colab": {
          "base_uri": "https://localhost:8080/"
        },
        "id": "8njlu1fieWS3",
        "outputId": "56bbcd2f-8375-4125-ebf7-0216ed55389f"
      },
      "execution_count": 11,
      "outputs": [
        {
          "output_type": "stream",
          "name": "stdout",
          "text": [
            "('Neutral', 0.6092689633369446)\n",
            "('netural', 0.5849581956863403)\n",
            "('webinars_DIA', 0.5474033951759338)\n",
            "('equalweight', 0.5049619078636169)\n",
            "('iWay_Software_vendor', 0.5008439421653748)\n",
            "('nuetral', 0.49808651208877563)\n",
            "('UBS_Warburg_upgraded', 0.47844234108924866)\n",
            "('LiveTime_vendor', 0.46886470913887024)\n",
            "('RelayHealth_McKesson_connectivity', 0.4648449420928955)\n",
            "('Bridgewell_Securities_downgraded', 0.46131810545921326)\n",
            "('marketperform', 0.45919984579086304)\n",
            "('reinitiated_coverage', 0.45571738481521606)\n",
            "('UBS_Warburg_downgraded', 0.4556959271430969)\n",
            "('###.##x_standard', 0.4550580382347107)\n",
            "('Landsbanki_reiterating', 0.4501628875732422)\n",
            "('RESEARCH_ALERT_Merrill', 0.44630730152130127)\n",
            "('Alone_doji', 0.4429816007614136)\n",
            "('WestLB_downgraded', 0.4421255588531494)\n",
            "('Intraday_bias_remains', 0.4405266046524048)\n",
            "('NEUTRAL', 0.44042521715164185)\n"
          ]
        }
      ]
    },
    {
      "cell_type": "code",
      "source": [
        "sentiment_test = \"nice\"\n",
        "similar_words = model.most_similar(sentiment_test, topn=10)\n",
        " \n",
        "\n",
        "for w in similar_words:\n",
        "  print(w[0])\n",
        "\n",
        "similar_words = model.most_similar(\"good\", topn=20)\n",
        "for w in similar_words:\n",
        "  print(w[0], \",\")\n",
        "  \n",
        " \n",
        "max = 0\n",
        "i = 0 \n",
        "index = 0\n",
        "\n",
        "for w in similar_words:\n",
        "  similarity = model.wv.similarity(sentiment_test, w[0])\n",
        "  if max <= similarity:\n",
        "    max =  similarity\n",
        "    index = i\n",
        "  print(\"similarity between: \",  w[0],  \" and \", sentiment_test, \" is \",  similarity)\n",
        "  i = i + 1 \n",
        "\n",
        "print(\"Maximum Orietation Towards\", similar_words[index][0], \" \" , max)"
      ],
      "metadata": {
        "colab": {
          "base_uri": "https://localhost:8080/"
        },
        "id": "JZAnswSxNzIY",
        "outputId": "a9d8c1e8-4f81-4eb0-8fc9-ee9395d1013e"
      },
      "execution_count": 50,
      "outputs": [
        {
          "output_type": "stream",
          "name": "stdout",
          "text": [
            "good\n",
            "lovely\n",
            "neat\n",
            "fantastic\n",
            "wonderful\n",
            "terrific\n",
            "great\n",
            "awesome\n",
            "nicer\n",
            "decent\n",
            "great ,\n",
            "bad ,\n",
            "terrific ,\n",
            "decent ,\n",
            "nice ,\n",
            "excellent ,\n",
            "fantastic ,\n",
            "better ,\n",
            "solid ,\n",
            "lousy ,\n",
            "wonderful ,\n",
            "terrible ,\n",
            "Good ,\n",
            "tough ,\n",
            "best ,\n",
            "alright ,\n",
            "perfect ,\n",
            "strong ,\n",
            "pretty_darn ,\n",
            "really ,\n",
            "similarity between:  great  and  nice  is  0.64546573\n",
            "similarity between:  bad  and  nice  is  0.39996928\n",
            "similarity between:  terrific  and  nice  is  0.6552368\n",
            "similarity between:  decent  and  nice  is  0.5993332\n",
            "similarity between:  nice  and  nice  is  1.0\n",
            "similarity between:  excellent  and  nice  is  0.47978145\n",
            "similarity between:  fantastic  and  nice  is  0.6569241\n",
            "similarity between:  better  and  nice  is  0.38781166\n",
            "similarity between:  solid  and  nice  is  0.42754313\n",
            "similarity between:  lousy  and  nice  is  0.3887929\n",
            "similarity between:  wonderful  and  nice  is  0.6561347\n",
            "similarity between:  terrible  and  nice  is  0.3903583\n",
            "similarity between:  Good  and  nice  is  0.33366507\n",
            "similarity between:  tough  and  nice  is  0.42698148\n",
            "similarity between:  best  and  nice  is  0.36758235\n",
            "similarity between:  alright  and  nice  is  0.5183937\n",
            "similarity between:  perfect  and  nice  is  0.5252579\n",
            "similarity between:  strong  and  nice  is  0.32300016\n",
            "similarity between:  pretty_darn  and  nice  is  0.48707113\n",
            "similarity between:  really  and  nice  is  0.57682\n",
            "Maximum Orietation Towards nice   1.0\n"
          ]
        },
        {
          "output_type": "stream",
          "name": "stderr",
          "text": [
            "/usr/local/lib/python3.7/dist-packages/ipykernel_launcher.py:18: DeprecationWarning: Call to deprecated `wv` (Attribute will be removed in 4.0.0, use self instead).\n"
          ]
        }
      ]
    },
    {
      "cell_type": "code",
      "source": [
        "sentiment_test = \"nice\"\n",
        "similar_words = model.most_similar(sentiment_test, topn=10)\n",
        " \n",
        "\n",
        "for w in similar_words:\n",
        "  print(w[0])\n",
        "\n",
        "similar_words = model.most_similar(\"happy\", topn=20)\n",
        "for w in similar_words:\n",
        "  print(w[0], \",\")\n",
        "  \n",
        " \n",
        "max = 0\n",
        "i = 0 \n",
        "index = 0\n",
        "\n",
        "for w in similar_words:\n",
        "  similarity = model.wv.similarity(sentiment_test, w[0])\n",
        "  if max <= similarity:\n",
        "    max =  similarity\n",
        "    index = i\n",
        "  print(\"similarity between: \",  w[0],  \" and \", sentiment_test, \" is \",  similarity)\n",
        "  i = i + 1 \n",
        "\n",
        "print(\"Maximum Orietation Towards\", similar_words[index][0], \" \" , max)"
      ],
      "metadata": {
        "colab": {
          "base_uri": "https://localhost:8080/"
        },
        "id": "XBSrUgOPN7gH",
        "outputId": "45273c21-5986-42a5-d03b-52bc98104253"
      },
      "execution_count": 49,
      "outputs": [
        {
          "output_type": "stream",
          "name": "stdout",
          "text": [
            "good\n",
            "lovely\n",
            "neat\n",
            "fantastic\n",
            "wonderful\n",
            "terrific\n",
            "great\n",
            "awesome\n",
            "nicer\n",
            "decent\n",
            "glad ,\n",
            "pleased ,\n",
            "ecstatic ,\n",
            "overjoyed ,\n",
            "thrilled ,\n",
            "satisfied ,\n",
            "proud ,\n",
            "delighted ,\n",
            "disappointed ,\n",
            "excited ,\n",
            "happier ,\n",
            "Said_Hirschbeck ,\n",
            "elated ,\n",
            "thankful ,\n",
            "unhappy ,\n",
            "enthused ,\n",
            "chuffed ,\n",
            "grateful ,\n",
            "confident ,\n",
            "hapy ,\n",
            "similarity between:  glad  and  nice  is  0.5067967\n",
            "similarity between:  pleased  and  nice  is  0.31258228\n",
            "similarity between:  ecstatic  and  nice  is  0.3099612\n",
            "similarity between:  overjoyed  and  nice  is  0.2611948\n",
            "similarity between:  thrilled  and  nice  is  0.32813224\n",
            "similarity between:  satisfied  and  nice  is  0.21507472\n",
            "similarity between:  proud  and  nice  is  0.34908974\n",
            "similarity between:  delighted  and  nice  is  0.27841687\n",
            "similarity between:  disappointed  and  nice  is  0.27657962\n",
            "similarity between:  excited  and  nice  is  0.35698736\n",
            "similarity between:  happier  and  nice  is  0.41623157\n",
            "similarity between:  Said_Hirschbeck  and  nice  is  0.44787392\n",
            "similarity between:  elated  and  nice  is  0.20923278\n",
            "similarity between:  thankful  and  nice  is  0.38186276\n",
            "similarity between:  unhappy  and  nice  is  0.2288078\n",
            "similarity between:  enthused  and  nice  is  0.29477158\n",
            "similarity between:  chuffed  and  nice  is  0.36169943\n",
            "similarity between:  grateful  and  nice  is  0.29367277\n",
            "similarity between:  confident  and  nice  is  0.23937473\n",
            "similarity between:  hapy  and  nice  is  0.41877228\n",
            "Maximum Orietation Towards glad   0.5067967\n"
          ]
        },
        {
          "output_type": "stream",
          "name": "stderr",
          "text": [
            "/usr/local/lib/python3.7/dist-packages/ipykernel_launcher.py:18: DeprecationWarning: Call to deprecated `wv` (Attribute will be removed in 4.0.0, use self instead).\n"
          ]
        }
      ]
    },
    {
      "cell_type": "code",
      "source": [
        "sentiment_test = \"nice\"\n",
        "similar_words = model.most_similar(sentiment_test, topn=10)\n",
        " \n",
        "\n",
        "for w in similar_words:\n",
        "  print(w[0])\n",
        "\n",
        "similar_words = model.most_similar(\"sad\", topn=20)\n",
        "for w in similar_words:\n",
        "  print(w[0], \",\")\n",
        "  \n",
        " \n",
        "max = 0\n",
        "i = 0 \n",
        "index = 0\n",
        "\n",
        "for w in similar_words:\n",
        "  similarity = model.wv.similarity(sentiment_test, w[0])\n",
        "  if max <= similarity:\n",
        "    max =  similarity\n",
        "    index = i\n",
        "  print(\"similarity between: \",  w[0],  \" and \", sentiment_test, \" is \",  similarity)\n",
        "  i = i + 1 \n",
        "\n",
        "print(\"Maximum Orietation Towards\", similar_words[index][0], \" \" , max)"
      ],
      "metadata": {
        "colab": {
          "base_uri": "https://localhost:8080/"
        },
        "id": "dcJB2PQrN9Aa",
        "outputId": "2177bf35-26b1-4e49-a17f-3961d2d358e3"
      },
      "execution_count": 48,
      "outputs": [
        {
          "output_type": "stream",
          "name": "stdout",
          "text": [
            "good\n",
            "lovely\n",
            "neat\n",
            "fantastic\n",
            "wonderful\n",
            "terrific\n",
            "great\n",
            "awesome\n",
            "nicer\n",
            "decent\n",
            "saddening ,\n",
            "Sad ,\n",
            "saddened ,\n",
            "heartbreaking ,\n",
            "disheartening ,\n",
            "Meny_Friedman ,\n",
            "parishioner_Pat_Patello ,\n",
            "saddens_me ,\n",
            "distressing ,\n",
            "reminders_bobbing ,\n",
            "Turkoman_Shiites ,\n",
            "saddest ,\n",
            "unfortunate ,\n",
            "sorry ,\n",
            "bittersweet ,\n",
            "tragic ,\n",
            "regretful ,\n",
            "sadder ,\n",
            "heartbroken ,\n",
            "shameful ,\n",
            "similarity between:  saddening  and  nice  is  0.19653961\n",
            "similarity between:  Sad  and  nice  is  0.3087586\n",
            "similarity between:  saddened  and  nice  is  0.10591769\n",
            "similarity between:  heartbreaking  and  nice  is  0.2665194\n",
            "similarity between:  disheartening  and  nice  is  0.2870232\n",
            "similarity between:  Meny_Friedman  and  nice  is  0.33181852\n",
            "similarity between:  parishioner_Pat_Patello  and  nice  is  0.31877038\n",
            "similarity between:  saddens_me  and  nice  is  0.2473923\n",
            "similarity between:  distressing  and  nice  is  0.19523531\n",
            "similarity between:  reminders_bobbing  and  nice  is  0.13752635\n",
            "similarity between:  Turkoman_Shiites  and  nice  is  0.29366028\n",
            "similarity between:  saddest  and  nice  is  0.22537756\n",
            "similarity between:  unfortunate  and  nice  is  0.29933858\n",
            "similarity between:  sorry  and  nice  is  0.34054175\n",
            "similarity between:  bittersweet  and  nice  is  0.41360497\n",
            "similarity between:  tragic  and  nice  is  0.10176314\n",
            "similarity between:  regretful  and  nice  is  0.20026116\n",
            "similarity between:  sadder  and  nice  is  0.22019078\n",
            "similarity between:  heartbroken  and  nice  is  0.17921185\n",
            "similarity between:  shameful  and  nice  is  0.19351365\n",
            "Maximum Orietation Towards bittersweet   0.41360497\n"
          ]
        },
        {
          "output_type": "stream",
          "name": "stderr",
          "text": [
            "/usr/local/lib/python3.7/dist-packages/ipykernel_launcher.py:18: DeprecationWarning: Call to deprecated `wv` (Attribute will be removed in 4.0.0, use self instead).\n"
          ]
        }
      ]
    },
    {
      "cell_type": "code",
      "source": [
        "sentiment_test = \"nice\"\n",
        "similar_words = model.most_similar(sentiment_test, topn=10)\n",
        " \n",
        "\n",
        "for w in similar_words:\n",
        "  print(w[0])\n",
        "\n",
        "similar_words = model.most_similar(\"bad\", topn=20)\n",
        "for w in similar_words:\n",
        "  print(w[0], \",\")\n",
        "  \n",
        " \n",
        "max = 0\n",
        "i = 0 \n",
        "index = 0\n",
        "\n",
        "for w in similar_words:\n",
        "  similarity = model.wv.similarity(sentiment_test, w[0])\n",
        "  if max <= similarity:\n",
        "    max =  similarity\n",
        "    index = i\n",
        "  print(\"similarity between: \",  w[0],  \" and \", sentiment_test, \" is \",  similarity)\n",
        "  i = i + 1 \n",
        "\n",
        "print(\"Maximum Orietation Towards\", similar_words[index][0], \" \" , max)"
      ],
      "metadata": {
        "colab": {
          "base_uri": "https://localhost:8080/"
        },
        "id": "3y3D0FxIN-Lw",
        "outputId": "f39e6f4e-4bbc-444f-9bdb-dff5fcd5abda"
      },
      "execution_count": 47,
      "outputs": [
        {
          "output_type": "stream",
          "name": "stdout",
          "text": [
            "good\n",
            "lovely\n",
            "neat\n",
            "fantastic\n",
            "wonderful\n",
            "terrific\n",
            "great\n",
            "awesome\n",
            "nicer\n",
            "decent\n",
            "good ,\n",
            "terrible ,\n",
            "horrible ,\n",
            "Bad ,\n",
            "lousy ,\n",
            "crummy ,\n",
            "horrid ,\n",
            "awful ,\n",
            "dreadful ,\n",
            "horrendous ,\n",
            "nasty ,\n",
            "crappy ,\n",
            "stupid ,\n",
            "poor ,\n",
            "rotten ,\n",
            "ugly ,\n",
            "iffy ,\n",
            "shitty ,\n",
            "worse ,\n",
            "atrocious ,\n",
            "similarity between:  good  and  nice  is  0.6836092\n",
            "similarity between:  terrible  and  nice  is  0.3903583\n",
            "similarity between:  horrible  and  nice  is  0.40073326\n",
            "similarity between:  Bad  and  nice  is  0.1847531\n",
            "similarity between:  lousy  and  nice  is  0.3887929\n",
            "similarity between:  crummy  and  nice  is  0.4177938\n",
            "similarity between:  horrid  and  nice  is  0.28221893\n",
            "similarity between:  awful  and  nice  is  0.37779915\n",
            "similarity between:  dreadful  and  nice  is  0.23827925\n",
            "similarity between:  horrendous  and  nice  is  0.25209677\n",
            "similarity between:  nasty  and  nice  is  0.36503384\n",
            "similarity between:  crappy  and  nice  is  0.43266788\n",
            "similarity between:  stupid  and  nice  is  0.33677462\n",
            "similarity between:  poor  and  nice  is  0.21710321\n",
            "similarity between:  rotten  and  nice  is  0.2031216\n",
            "similarity between:  ugly  and  nice  is  0.3014397\n",
            "similarity between:  iffy  and  nice  is  0.33022535\n",
            "similarity between:  shitty  and  nice  is  0.39009014\n",
            "similarity between:  worse  and  nice  is  0.1587669\n",
            "similarity between:  atrocious  and  nice  is  0.246924\n",
            "Maximum Orietation Towards good   0.6836092\n"
          ]
        },
        {
          "output_type": "stream",
          "name": "stderr",
          "text": [
            "/usr/local/lib/python3.7/dist-packages/ipykernel_launcher.py:18: DeprecationWarning: Call to deprecated `wv` (Attribute will be removed in 4.0.0, use self instead).\n"
          ]
        }
      ]
    },
    {
      "cell_type": "code",
      "source": [
        "sentiment_test = \"nice\"\n",
        "similar_words = model.most_similar(sentiment_test, topn=10)\n",
        " \n",
        "\n",
        "for w in similar_words:\n",
        "  print(w[0])\n",
        "\n",
        "similar_words = model.most_similar(\"neutral\", topn=20)\n",
        "for w in similar_words:\n",
        "  print(w[0], \",\")\n",
        "  \n",
        " \n",
        "max = 0\n",
        "i = 0 \n",
        "index = 0\n",
        "\n",
        "for w in similar_words:\n",
        "  similarity = model.wv.similarity(sentiment_test, w[0])\n",
        "  if max <= similarity:\n",
        "    max =  similarity\n",
        "    index = i\n",
        "  print(\"similarity between: \",  w[0],  \" and \", sentiment_test, \" is \",  similarity)\n",
        "  i = i + 1 \n",
        "\n",
        "print(\"Maximum Orietation Towards\", similar_words[index][0], \" \" , max)"
      ],
      "metadata": {
        "colab": {
          "base_uri": "https://localhost:8080/"
        },
        "id": "U6skmtRBN_77",
        "outputId": "296ecc4b-4b5b-4dfe-f40c-02d6ecea3632"
      },
      "execution_count": 46,
      "outputs": [
        {
          "output_type": "stream",
          "name": "stdout",
          "text": [
            "good\n",
            "lovely\n",
            "neat\n",
            "fantastic\n",
            "wonderful\n",
            "terrific\n",
            "great\n",
            "awesome\n",
            "nicer\n",
            "decent\n",
            "Neutral ,\n",
            "netural ,\n",
            "webinars_DIA ,\n",
            "equalweight ,\n",
            "iWay_Software_vendor ,\n",
            "nuetral ,\n",
            "UBS_Warburg_upgraded ,\n",
            "LiveTime_vendor ,\n",
            "RelayHealth_McKesson_connectivity ,\n",
            "Bridgewell_Securities_downgraded ,\n",
            "marketperform ,\n",
            "reinitiated_coverage ,\n",
            "UBS_Warburg_downgraded ,\n",
            "###.##x_standard ,\n",
            "Landsbanki_reiterating ,\n",
            "RESEARCH_ALERT_Merrill ,\n",
            "Alone_doji ,\n",
            "WestLB_downgraded ,\n",
            "Intraday_bias_remains ,\n",
            "NEUTRAL ,\n",
            "similarity between:  Neutral  and  nice  is  0.07242033\n",
            "similarity between:  netural  and  nice  is  0.17947648\n",
            "similarity between:  webinars_DIA  and  nice  is  0.09846436\n",
            "similarity between:  equalweight  and  nice  is  0.10679648\n",
            "similarity between:  iWay_Software_vendor  and  nice  is  0.18246941\n",
            "similarity between:  nuetral  and  nice  is  0.21501957\n",
            "similarity between:  UBS_Warburg_upgraded  and  nice  is  0.051131833\n",
            "similarity between:  LiveTime_vendor  and  nice  is  0.06674488\n",
            "similarity between:  RelayHealth_McKesson_connectivity  and  nice  is  0.14608368\n",
            "similarity between:  Bridgewell_Securities_downgraded  and  nice  is  0.18311179\n",
            "similarity between:  marketperform  and  nice  is  0.09282495\n",
            "similarity between:  reinitiated_coverage  and  nice  is  0.07295958\n",
            "similarity between:  UBS_Warburg_downgraded  and  nice  is  0.0146416575\n",
            "similarity between:  ###.##x_standard  and  nice  is  0.121761106\n",
            "similarity between:  Landsbanki_reiterating  and  nice  is  0.08285508\n",
            "similarity between:  RESEARCH_ALERT_Merrill  and  nice  is  0.15801618\n",
            "similarity between:  Alone_doji  and  nice  is  0.21347429\n",
            "similarity between:  WestLB_downgraded  and  nice  is  0.11614447\n",
            "similarity between:  Intraday_bias_remains  and  nice  is  0.21178775\n",
            "similarity between:  NEUTRAL  and  nice  is  0.115384564\n",
            "Maximum Orietation Towards nuetral   0.21501957\n"
          ]
        },
        {
          "output_type": "stream",
          "name": "stderr",
          "text": [
            "/usr/local/lib/python3.7/dist-packages/ipykernel_launcher.py:18: DeprecationWarning: Call to deprecated `wv` (Attribute will be removed in 4.0.0, use self instead).\n"
          ]
        }
      ]
    },
    {
      "cell_type": "code",
      "source": [
        "model.wv.similarity(\"bad\",\"good\")"
      ],
      "metadata": {
        "colab": {
          "base_uri": "https://localhost:8080/"
        },
        "id": "PBiiOit4Qwoy",
        "outputId": "00b410eb-0a08-40c3-f880-5215bf48cee6"
      },
      "execution_count": 51,
      "outputs": [
        {
          "output_type": "stream",
          "name": "stderr",
          "text": [
            "/usr/local/lib/python3.7/dist-packages/ipykernel_launcher.py:1: DeprecationWarning: Call to deprecated `wv` (Attribute will be removed in 4.0.0, use self instead).\n",
            "  \"\"\"Entry point for launching an IPython kernel.\n"
          ]
        },
        {
          "output_type": "execute_result",
          "data": {
            "text/plain": [
              "0.7190051"
            ]
          },
          "metadata": {},
          "execution_count": 51
        }
      ]
    }
  ]
}